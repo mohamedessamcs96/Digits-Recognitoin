{
 "cells": [
  {
   "cell_type": "markdown",
   "id": "986504d6",
   "metadata": {},
   "source": [
    "# Digits Recognition"
   ]
  },
  {
   "cell_type": "code",
   "execution_count": 1,
   "id": "2576faba",
   "metadata": {},
   "outputs": [],
   "source": [
    "from sklearn import datasets\n",
    "from sklearn import svm"
   ]
  },
  {
   "cell_type": "code",
   "execution_count": 2,
   "id": "d816c556",
   "metadata": {},
   "outputs": [
    {
     "name": "stdout",
     "output_type": "stream",
     "text": [
      ".. _digits_dataset:\n",
      "\n",
      "Optical recognition of handwritten digits dataset\n",
      "--------------------------------------------------\n",
      "\n",
      "**Data Set Characteristics:**\n",
      "\n",
      "    :Number of Instances: 1797\n",
      "    :Number of Attributes: 64\n",
      "    :Attribute Information: 8x8 image of integer pixels in the range 0..16.\n",
      "    :Missing Attribute Values: None\n",
      "    :Creator: E. Alpaydin (alpaydin '@' boun.edu.tr)\n",
      "    :Date: July; 1998\n",
      "\n",
      "This is a copy of the test set of the UCI ML hand-written digits datasets\n",
      "https://archive.ics.uci.edu/ml/datasets/Optical+Recognition+of+Handwritten+Digits\n",
      "\n",
      "The data set contains images of hand-written digits: 10 classes where\n",
      "each class refers to a digit.\n",
      "\n",
      "Preprocessing programs made available by NIST were used to extract\n",
      "normalized bitmaps of handwritten digits from a preprinted form. From a\n",
      "total of 43 people, 30 contributed to the training set and different 13\n",
      "to the test set. 32x32 bitmaps are divided into nonoverlapping blocks of\n",
      "4x4 and the number of on pixels are counted in each block. This generates\n",
      "an input matrix of 8x8 where each element is an integer in the range\n",
      "0..16. This reduces dimensionality and gives invariance to small\n",
      "distortions.\n",
      "\n",
      "For info on NIST preprocessing routines, see M. D. Garris, J. L. Blue, G.\n",
      "T. Candela, D. L. Dimmick, J. Geist, P. J. Grother, S. A. Janet, and C.\n",
      "L. Wilson, NIST Form-Based Handprint Recognition System, NISTIR 5469,\n",
      "1994.\n",
      "\n",
      ".. topic:: References\n",
      "\n",
      "  - C. Kaynak (1995) Methods of Combining Multiple Classifiers and Their\n",
      "    Applications to Handwritten Digit Recognition, MSc Thesis, Institute of\n",
      "    Graduate Studies in Science and Engineering, Bogazici University.\n",
      "  - E. Alpaydin, C. Kaynak (1998) Cascading Classifiers, Kybernetika.\n",
      "  - Ken Tang and Ponnuthurai N. Suganthan and Xi Yao and A. Kai Qin.\n",
      "    Linear dimensionalityreduction using relevance weighted LDA. School of\n",
      "    Electrical and Electronic Engineering Nanyang Technological University.\n",
      "    2005.\n",
      "  - Claudio Gentile. A New Approximate Maximal Margin Classification\n",
      "    Algorithm. NIPS. 2000.\n",
      "\n"
     ]
    }
   ],
   "source": [
    "digits=datasets.load_digits()\n",
    "print(digits.DESCR)"
   ]
  },
  {
   "cell_type": "code",
   "execution_count": 3,
   "id": "c9955fbe",
   "metadata": {},
   "outputs": [
    {
     "data": {
      "text/plain": [
       "array([[ 0.,  0.,  5., ...,  0.,  0.,  0.],\n",
       "       [ 0.,  0.,  0., ..., 10.,  0.,  0.],\n",
       "       [ 0.,  0.,  0., ..., 16.,  9.,  0.],\n",
       "       ...,\n",
       "       [ 0.,  0.,  1., ...,  6.,  0.,  0.],\n",
       "       [ 0.,  0.,  2., ..., 12.,  0.,  0.],\n",
       "       [ 0.,  0., 10., ..., 12.,  1.,  0.]])"
      ]
     },
     "execution_count": 3,
     "metadata": {},
     "output_type": "execute_result"
    }
   ],
   "source": [
    "digits.data"
   ]
  },
  {
   "cell_type": "code",
   "execution_count": 4,
   "id": "50d2e33c",
   "metadata": {},
   "outputs": [],
   "source": [
    "digits.data=digits.data.astype(digits.images.dtype)/16"
   ]
  },
  {
   "cell_type": "code",
   "execution_count": 5,
   "id": "f87c54f5",
   "metadata": {},
   "outputs": [],
   "source": [
    "from sklearn.model_selection import train_test_split\n",
    "X_train, X_test, y_train, y_test = train_test_split(digits.data, digits.target, stratify=digits.target, random_state=42)"
   ]
  },
  {
   "cell_type": "code",
   "execution_count": 6,
   "id": "0581d1ff",
   "metadata": {},
   "outputs": [],
   "source": [
    "import numpy as np\n",
    "\n",
    "def NormalizeData(data):\n",
    "    return (data - np.min(data)) / (np.max(data) - np.min(data))*16"
   ]
  },
  {
   "cell_type": "code",
   "execution_count": 7,
   "id": "838d1f7b",
   "metadata": {},
   "outputs": [
    {
     "data": {
      "text/plain": [
       "array([[0.    , 0.    , 0.3125, ..., 0.    , 0.    , 0.    ],\n",
       "       [0.    , 0.    , 0.    , ..., 0.625 , 0.    , 0.    ],\n",
       "       [0.    , 0.    , 0.    , ..., 1.    , 0.5625, 0.    ],\n",
       "       ...,\n",
       "       [0.    , 0.    , 0.0625, ..., 0.375 , 0.    , 0.    ],\n",
       "       [0.    , 0.    , 0.125 , ..., 0.75  , 0.    , 0.    ],\n",
       "       [0.    , 0.    , 0.625 , ..., 0.75  , 0.0625, 0.    ]])"
      ]
     },
     "execution_count": 7,
     "metadata": {},
     "output_type": "execute_result"
    }
   ],
   "source": [
    "digits.data"
   ]
  },
  {
   "cell_type": "code",
   "execution_count": 8,
   "id": "1859fde9",
   "metadata": {},
   "outputs": [
    {
     "data": {
      "image/png": "[encoded data removed]",
      "text/plain": [
       "<Figure size 432x288 with 1 Axes>"
      ]
     },
     "metadata": {
      "needs_background": "light"
     },
     "output_type": "display_data"
    }
   ],
   "source": [
    "import matplotlib.pyplot as plt\n",
    "plt.imshow(digits.images[0],cmap='binary')\n",
    "plt.show()"
   ]
  },
  {
   "cell_type": "code",
   "execution_count": 18,
   "id": "bf114125",
   "metadata": {},
   "outputs": [
    {
     "data": {
      "text/plain": [
       "True"
      ]
     },
     "execution_count": 18,
     "metadata": {},
     "output_type": "execute_result"
    }
   ],
   "source": [
    "import cv2\n",
    "cv2.imwrite('image0.jpg', digits.images[0])"
   ]
  },
  {
   "cell_type": "code",
   "execution_count": 19,
   "id": "943bd71b",
   "metadata": {},
   "outputs": [],
   "source": [
    "def plot_multi(i):\n",
    "    '''Plots 16 digits, starting with digit i'''\n",
    "    nplots = 16\n",
    "    fig = plt.figure(figsize=(15,15))\n",
    "    for j in range(nplots):\n",
    "        #subplot(nrows, ncols, index, **kwargs)\n",
    "        plt.subplot(4,4,j+1)\n",
    "        plt.imshow(digits.images[i+j], cmap='binary')\n",
    "        plt.title(digits.target[i+j])\n",
    "        plt.axis('off')\n",
    "    plt.show()"
   ]
  },
  {
   "cell_type": "code",
   "execution_count": 20,
   "id": "efaec8c2",
   "metadata": {},
   "outputs": [
    {
     "data": {
      "image/png": "[encoded data removed]",
      "text/plain": [
       "<Figure size 1080x1080 with 16 Axes>"
      ]
     },
     "metadata": {
      "needs_background": "light"
     },
     "output_type": "display_data"
    }
   ],
   "source": [
    "plot_multi(0)"
   ]
  },
  {
   "cell_type": "code",
   "execution_count": 21,
   "id": "cbb73dcd",
   "metadata": {},
   "outputs": [
    {
     "data": {
      "text/plain": [
       "array([0, 1, 2, ..., 8, 9, 8])"
      ]
     },
     "execution_count": 21,
     "metadata": {},
     "output_type": "execute_result"
    }
   ],
   "source": [
    "digits.target"
   ]
  },
  {
   "cell_type": "code",
   "execution_count": 22,
   "id": "55368b68",
   "metadata": {},
   "outputs": [],
   "source": [
    "from sklearn.neural_network import MLPClassifier\n",
    "\n",
    "mlp = MLPClassifier(hidden_layer_sizes=(15,), activation='logistic', alpha=1e-4,\n",
    "                    solver='sgd', tol=1e-4, random_state=1,\n",
    "                    learning_rate_init=.1, verbose=True)"
   ]
  },
  {
   "cell_type": "code",
   "execution_count": 23,
   "id": "f2f847ef",
   "metadata": {},
   "outputs": [
    {
     "name": "stdout",
     "output_type": "stream",
     "text": [
      "Iteration 1, loss = 2.32728651\n",
      "Iteration 2, loss = 2.27976483\n",
      "Iteration 3, loss = 2.23955875\n",
      "Iteration 4, loss = 2.18194763\n",
      "Iteration 5, loss = 2.10397776\n",
      "Iteration 6, loss = 1.99801343\n",
      "Iteration 7, loss = 1.86005463\n",
      "Iteration 8, loss = 1.70069265\n",
      "Iteration 9, loss = 1.53322471\n",
      "Iteration 10, loss = 1.37082743\n",
      "Iteration 11, loss = 1.21697053\n",
      "Iteration 12, loss = 1.08602866\n",
      "Iteration 13, loss = 0.97132327\n",
      "Iteration 14, loss = 0.87307250\n",
      "Iteration 15, loss = 0.79090773\n",
      "Iteration 16, loss = 0.71918555\n",
      "Iteration 17, loss = 0.65894760\n",
      "Iteration 18, loss = 0.60632414\n",
      "Iteration 19, loss = 0.56193029\n",
      "Iteration 20, loss = 0.52182034\n",
      "Iteration 21, loss = 0.48731396\n",
      "Iteration 22, loss = 0.45664419\n",
      "Iteration 23, loss = 0.42996306\n",
      "Iteration 24, loss = 0.40547424\n",
      "Iteration 25, loss = 0.38364204\n",
      "Iteration 26, loss = 0.36321158\n",
      "Iteration 27, loss = 0.34632083\n",
      "Iteration 28, loss = 0.33053289\n",
      "Iteration 29, loss = 0.31649452\n",
      "Iteration 30, loss = 0.30251471\n",
      "Iteration 31, loss = 0.29100098\n",
      "Iteration 32, loss = 0.27911803\n",
      "Iteration 33, loss = 0.26973288\n",
      "Iteration 34, loss = 0.25984267\n",
      "Iteration 35, loss = 0.25097736\n",
      "Iteration 36, loss = 0.24296719\n",
      "Iteration 37, loss = 0.23597080\n",
      "Iteration 38, loss = 0.22885399\n",
      "Iteration 39, loss = 0.22208563\n",
      "Iteration 40, loss = 0.21579698\n",
      "Iteration 41, loss = 0.21006903\n",
      "Iteration 42, loss = 0.20456627\n",
      "Iteration 43, loss = 0.19934889\n",
      "Iteration 44, loss = 0.19449829\n",
      "Iteration 45, loss = 0.19016072\n",
      "Iteration 46, loss = 0.18548558\n",
      "Iteration 47, loss = 0.18163879\n",
      "Iteration 48, loss = 0.17815345\n",
      "Iteration 49, loss = 0.17354572\n",
      "Iteration 50, loss = 0.17028538\n",
      "Iteration 51, loss = 0.16707047\n",
      "Iteration 52, loss = 0.16343353\n",
      "Iteration 53, loss = 0.16047317\n",
      "Iteration 54, loss = 0.15815996\n",
      "Iteration 55, loss = 0.15489074\n",
      "Iteration 56, loss = 0.15198103\n",
      "Iteration 57, loss = 0.14951943\n",
      "Iteration 58, loss = 0.14701874\n",
      "Iteration 59, loss = 0.14440240\n",
      "Iteration 60, loss = 0.14220207\n",
      "Iteration 61, loss = 0.13963490\n",
      "Iteration 62, loss = 0.13819344\n",
      "Iteration 63, loss = 0.13582025\n",
      "Iteration 64, loss = 0.13336327\n",
      "Iteration 65, loss = 0.13132825\n",
      "Iteration 66, loss = 0.12963441\n",
      "Iteration 67, loss = 0.12785394\n",
      "Iteration 68, loss = 0.12587163\n",
      "Iteration 69, loss = 0.12437580\n",
      "Iteration 70, loss = 0.12223243\n",
      "Iteration 71, loss = 0.12076987\n",
      "Iteration 72, loss = 0.11934455\n",
      "Iteration 73, loss = 0.11776690\n",
      "Iteration 74, loss = 0.11604381\n",
      "Iteration 75, loss = 0.11484173\n",
      "Iteration 76, loss = 0.11314442\n",
      "Iteration 77, loss = 0.11181713\n",
      "Iteration 78, loss = 0.11052561\n",
      "Iteration 79, loss = 0.10890883\n",
      "Iteration 80, loss = 0.10775520\n",
      "Iteration 81, loss = 0.10695403\n",
      "Iteration 82, loss = 0.10517041\n",
      "Iteration 83, loss = 0.10426826\n",
      "Iteration 84, loss = 0.10284175\n",
      "Iteration 85, loss = 0.10180395\n",
      "Iteration 86, loss = 0.10047935\n",
      "Iteration 87, loss = 0.09975779\n",
      "Iteration 88, loss = 0.09829013\n",
      "Iteration 89, loss = 0.09745429\n",
      "Iteration 90, loss = 0.09636421\n",
      "Iteration 91, loss = 0.09560386\n",
      "Iteration 92, loss = 0.09455134\n",
      "Iteration 93, loss = 0.09351709\n",
      "Iteration 94, loss = 0.09227593\n",
      "Iteration 95, loss = 0.09172512\n",
      "Iteration 96, loss = 0.09070150\n",
      "Iteration 97, loss = 0.08970968\n",
      "Iteration 98, loss = 0.08880534\n",
      "Iteration 99, loss = 0.08796770\n",
      "Iteration 100, loss = 0.08725924\n",
      "Iteration 101, loss = 0.08645969\n",
      "Iteration 102, loss = 0.08552099\n",
      "Iteration 103, loss = 0.08451721\n",
      "Iteration 104, loss = 0.08386794\n",
      "Iteration 105, loss = 0.08303411\n",
      "Iteration 106, loss = 0.08243367\n",
      "Iteration 107, loss = 0.08154565\n",
      "Iteration 108, loss = 0.08068384\n",
      "Iteration 109, loss = 0.08006442\n",
      "Iteration 110, loss = 0.07959825\n",
      "Iteration 111, loss = 0.07869943\n",
      "Iteration 112, loss = 0.07784532\n",
      "Iteration 113, loss = 0.07707393\n",
      "Iteration 114, loss = 0.07664054\n",
      "Iteration 115, loss = 0.07593687\n",
      "Iteration 116, loss = 0.07553146\n",
      "Iteration 117, loss = 0.07463590\n",
      "Iteration 118, loss = 0.07384567\n",
      "Iteration 119, loss = 0.07326549\n",
      "Iteration 120, loss = 0.07277354\n",
      "Iteration 121, loss = 0.07196346\n",
      "Iteration 122, loss = 0.07144683\n",
      "Iteration 123, loss = 0.07100481\n",
      "Iteration 124, loss = 0.07029811\n",
      "Iteration 125, loss = 0.06982159\n",
      "Iteration 126, loss = 0.06917363\n",
      "Iteration 127, loss = 0.06853642\n",
      "Iteration 128, loss = 0.06806711\n",
      "Iteration 129, loss = 0.06767241\n",
      "Iteration 130, loss = 0.06701127\n",
      "Iteration 131, loss = 0.06664443\n",
      "Iteration 132, loss = 0.06614396\n",
      "Iteration 133, loss = 0.06528163\n",
      "Iteration 134, loss = 0.06510743\n",
      "Iteration 135, loss = 0.06428627\n",
      "Iteration 136, loss = 0.06385036\n",
      "Iteration 137, loss = 0.06328067\n",
      "Iteration 138, loss = 0.06286906\n",
      "Iteration 139, loss = 0.06240156\n",
      "Iteration 140, loss = 0.06183137\n",
      "Iteration 141, loss = 0.06150649\n",
      "Iteration 142, loss = 0.06095973\n",
      "Iteration 143, loss = 0.06047035\n",
      "Iteration 144, loss = 0.06015795\n",
      "Iteration 145, loss = 0.05957492\n",
      "Iteration 146, loss = 0.05923918\n",
      "Iteration 147, loss = 0.05961738\n",
      "Iteration 148, loss = 0.05832213\n",
      "Iteration 149, loss = 0.05794777\n",
      "Iteration 150, loss = 0.05781060\n",
      "Iteration 151, loss = 0.05738401\n",
      "Iteration 152, loss = 0.05697771\n",
      "Iteration 153, loss = 0.05631022\n",
      "Iteration 154, loss = 0.05594861\n",
      "Iteration 155, loss = 0.05555299\n",
      "Iteration 156, loss = 0.05506904\n",
      "Iteration 157, loss = 0.05462815\n",
      "Iteration 158, loss = 0.05431490\n",
      "Iteration 159, loss = 0.05409718\n",
      "Iteration 160, loss = 0.05348698\n",
      "Iteration 161, loss = 0.05322778\n",
      "Iteration 162, loss = 0.05290365\n",
      "Iteration 163, loss = 0.05253858\n",
      "Iteration 164, loss = 0.05209345\n",
      "Iteration 165, loss = 0.05171476\n",
      "Iteration 166, loss = 0.05152465\n",
      "Iteration 167, loss = 0.05107359\n",
      "Iteration 168, loss = 0.05076616\n",
      "Iteration 169, loss = 0.05037754\n",
      "Iteration 170, loss = 0.05010916\n",
      "Iteration 171, loss = 0.04995487\n",
      "Iteration 172, loss = 0.04923909\n",
      "Iteration 173, loss = 0.04915404\n",
      "Iteration 174, loss = 0.04884749\n",
      "Iteration 175, loss = 0.04839064\n",
      "Iteration 176, loss = 0.04806056\n",
      "Iteration 177, loss = 0.04775336\n",
      "Iteration 178, loss = 0.04776306\n",
      "Iteration 179, loss = 0.04724027\n",
      "Iteration 180, loss = 0.04691945\n",
      "Iteration 181, loss = 0.04665169\n",
      "Iteration 182, loss = 0.04630075\n",
      "Iteration 183, loss = 0.04601488\n",
      "Iteration 184, loss = 0.04570150\n",
      "Iteration 185, loss = 0.04555270\n",
      "Iteration 186, loss = 0.04521628\n",
      "Iteration 187, loss = 0.04507807\n",
      "Iteration 188, loss = 0.04467062\n",
      "Iteration 189, loss = 0.04440338\n",
      "Iteration 190, loss = 0.04402811\n",
      "Iteration 191, loss = 0.04387481\n",
      "Iteration 192, loss = 0.04355531\n",
      "Iteration 193, loss = 0.04340429\n",
      "Iteration 194, loss = 0.04297503\n",
      "Iteration 195, loss = 0.04272421\n",
      "Iteration 196, loss = 0.04255637\n",
      "Iteration 197, loss = 0.04221803\n",
      "Iteration 198, loss = 0.04206370\n",
      "Iteration 199, loss = 0.04180762\n",
      "Iteration 200, loss = 0.04167062\n"
     ]
    },
    {
     "name": "stderr",
     "output_type": "stream",
     "text": [
      "/Users/mac/opt/anaconda3/lib/python3.9/site-packages/sklearn/neural_network/_multilayer_perceptron.py:692: ConvergenceWarning: Stochastic Optimizer: Maximum iterations (200) reached and the optimization hasn't converged yet.\n",
      "  warnings.warn(\n"
     ]
    },
    {
     "data": {
      "text/plain": [
       "MLPClassifier(activation='logistic', hidden_layer_sizes=(15,),\n",
       "              learning_rate_init=0.1, random_state=1, solver='sgd',\n",
       "              verbose=True)"
      ]
     },
     "execution_count": 23,
     "metadata": {},
     "output_type": "execute_result"
    }
   ],
   "source": [
    "mlp.fit(X_train,y_train)"
   ]
  },
  {
   "cell_type": "code",
   "execution_count": 24,
   "id": "42f26012",
   "metadata": {},
   "outputs": [
    {
     "name": "stdout",
     "output_type": "stream",
     "text": [
      "The accuracy on the training subset: 0.998\n",
      "The accuracy on the test subset: 0.964\n"
     ]
    }
   ],
   "source": [
    "print('The accuracy on the training subset: {:.3f}'.format(mlp.score(X_train, y_train)))\n",
    "print('The accuracy on the test subset: {:.3f}'.format(mlp.score(X_test, y_test)))"
   ]
  },
  {
   "cell_type": "code",
   "execution_count": 25,
   "id": "7dff3915",
   "metadata": {},
   "outputs": [
    {
     "name": "stdout",
     "output_type": "stream",
     "text": [
      "The accuracy on the training subset: 0.998\n",
      "The accuracy on the test subset: 0.989\n"
     ]
    }
   ],
   "source": [
    "clf=svm.SVC(gamma=0.1)\n",
    "clf.fit(X_train,y_train)\n",
    "print('The accuracy on the training subset: {:.3f}'.format(clf.score(X_train, y_train)))\n",
    "print('The accuracy on the test subset: {:.3f}'.format(clf.score(X_test, y_test)))"
   ]
  },
  {
   "cell_type": "code",
   "execution_count": 26,
   "id": "4bb76128",
   "metadata": {},
   "outputs": [
    {
     "data": {
      "text/plain": [
       "(1797, 64)"
      ]
     },
     "execution_count": 26,
     "metadata": {},
     "output_type": "execute_result"
    }
   ],
   "source": [
    "#64 is mean 64 pixel which are 8,8\n",
    "digits.data.shape"
   ]
  },
  {
   "cell_type": "code",
   "execution_count": 27,
   "id": "767a33b2",
   "metadata": {},
   "outputs": [
    {
     "name": "stdout",
     "output_type": "stream",
     "text": [
      "[0.     0.     0.     0.75   0.8125 0.     0.     0.     0.     0.\n",
      " 0.3125 1.     0.5    0.     0.     0.     0.     0.     0.8125 1.\n",
      " 0.1875 0.     0.     0.     0.     0.     0.875  0.8125 0.     0.\n",
      " 0.     0.     0.     0.     0.9375 0.75   0.4375 0.125  0.     0.\n",
      " 0.     0.     0.8125 1.     0.8125 1.     0.1875 0.     0.     0.\n",
      " 0.4375 1.     0.6875 0.9375 0.5    0.     0.     0.     0.0625 0.5625\n",
      " 0.9375 0.6875 0.1875 0.    ]\n"
     ]
    }
   ],
   "source": [
    "print(digits.data[6])"
   ]
  },
  {
   "cell_type": "code",
   "execution_count": 28,
   "id": "59e60d1a",
   "metadata": {},
   "outputs": [],
   "source": [
    "prediction=mlp.predict([digits.data[6]])"
   ]
  },
  {
   "cell_type": "code",
   "execution_count": 29,
   "id": "860ffd2c",
   "metadata": {},
   "outputs": [
    {
     "name": "stdout",
     "output_type": "stream",
     "text": [
      "[6]\n"
     ]
    }
   ],
   "source": [
    "print(prediction)"
   ]
  },
  {
   "cell_type": "code",
   "execution_count": 30,
   "id": "6dbeb392",
   "metadata": {},
   "outputs": [],
   "source": [
    "#!pip install opencv-python"
   ]
  },
  {
   "cell_type": "code",
   "execution_count": 31,
   "id": "88c150bd",
   "metadata": {},
   "outputs": [
    {
     "data": {
      "text/plain": [
       "'\\nImage_Array=[]\\nfor eachrow in scaled_image:\\n    for eachpixel in eachrow:\\n        Image_Array.append(eachpixel)#to get the average as gray scale\\n'"
      ]
     },
     "execution_count": 31,
     "metadata": {},
     "output_type": "execute_result"
    }
   ],
   "source": [
    "import cv2\n",
    "import skimage\n",
    "import numpy as np\n",
    "from scipy import misc\n",
    "img = cv2.imread('numbersix.png')\n",
    "#img = cv2.equalizeHist(img)\n",
    "img_gray = cv2.cvtColor(img, cv2.COLOR_BGR2GRAY)\n",
    "img_gray = cv2.GaussianBlur(img_gray, (5, 5), 0)\n",
    "#img=skimage.util.img_as_ubyte(img)\n",
    "resized_image = cv2.resize(img_gray, (8,8))\n",
    "scaled_image = resized_image.astype(digits.images.dtype)/255.0\n",
    "#scaled_image=NormalizeData(scaled_image)\n",
    "scaled_image=np.array(scaled_image)\n",
    "\n",
    "\"\"\"\n",
    "Image_Array=[]\n",
    "for eachrow in scaled_image:\n",
    "    for eachpixel in eachrow:\n",
    "        Image_Array.append(eachpixel)#to get the average as gray scale\n",
    "\"\"\"\n"
   ]
  },
  {
   "cell_type": "code",
   "execution_count": 32,
   "id": "ed02ff9e",
   "metadata": {},
   "outputs": [
    {
     "data": {
      "image/png": "[encoded data removed]",
      "text/plain": [
       "<Figure size 432x288 with 1 Axes>"
      ]
     },
     "metadata": {
      "needs_background": "light"
     },
     "output_type": "display_data"
    }
   ],
   "source": [
    "import matplotlib.pyplot as plt\n",
    "plt.imshow(img,cmap='binary')\n",
    "plt.show()"
   ]
  },
  {
   "cell_type": "code",
   "execution_count": 33,
   "id": "abad2045",
   "metadata": {},
   "outputs": [
    {
     "data": {
      "text/plain": [
       "array([0.    , 0.    , 0.3125, 0.8125, 0.5625, 0.0625, 0.    , 0.    ,\n",
       "       0.    , 0.    , 0.8125, 0.9375, 0.625 , 0.9375, 0.3125, 0.    ,\n",
       "       0.    , 0.1875, 0.9375, 0.125 , 0.    , 0.6875, 0.5   , 0.    ,\n",
       "       0.    , 0.25  , 0.75  , 0.    , 0.    , 0.5   , 0.5   , 0.    ,\n",
       "       0.    , 0.3125, 0.5   , 0.    , 0.    , 0.5625, 0.5   , 0.    ,\n",
       "       0.    , 0.25  , 0.6875, 0.    , 0.0625, 0.75  , 0.4375, 0.    ,\n",
       "       0.    , 0.125 , 0.875 , 0.3125, 0.625 , 0.75  , 0.    , 0.    ,\n",
       "       0.    , 0.    , 0.375 , 0.8125, 0.625 , 0.    , 0.    , 0.    ])"
      ]
     },
     "execution_count": 33,
     "metadata": {},
     "output_type": "execute_result"
    }
   ],
   "source": [
    "digits.data[0]"
   ]
  },
  {
   "cell_type": "code",
   "execution_count": 34,
   "id": "e08bdfec",
   "metadata": {},
   "outputs": [],
   "source": [
    "scaled_image=scaled_image.flatten()"
   ]
  },
  {
   "cell_type": "code",
   "execution_count": 35,
   "id": "f1b5a16a",
   "metadata": {},
   "outputs": [
    {
     "data": {
      "text/plain": [
       "(64,)"
      ]
     },
     "execution_count": 35,
     "metadata": {},
     "output_type": "execute_result"
    }
   ],
   "source": [
    "scaled_image.shape"
   ]
  },
  {
   "cell_type": "code",
   "execution_count": 36,
   "id": "8d97c163",
   "metadata": {},
   "outputs": [
    {
     "data": {
      "text/plain": [
       "array([1.        , 1.        , 1.        , 1.        , 1.        ,\n",
       "       1.        , 1.        , 1.        , 1.        , 1.        ,\n",
       "       1.        , 1.        , 1.        , 1.        , 1.        ,\n",
       "       1.        , 1.        , 1.        , 1.        , 0.3254902 ,\n",
       "       1.        , 1.        , 1.        , 1.        , 1.        ,\n",
       "       1.        , 0.        , 1.        , 1.        , 1.        ,\n",
       "       1.        , 1.        , 1.        , 1.        , 1.        ,\n",
       "       1.        , 1.        , 1.        , 1.        , 1.        ,\n",
       "       1.        , 0.71372549, 1.        , 1.        , 1.        ,\n",
       "       1.        , 1.        , 1.        , 1.        , 1.        ,\n",
       "       0.10196078, 1.        , 1.        , 0.        , 1.        ,\n",
       "       1.        , 1.        , 1.        , 1.        , 0.        ,\n",
       "       0.        , 1.        , 1.        , 1.        ])"
      ]
     },
     "execution_count": 36,
     "metadata": {},
     "output_type": "execute_result"
    }
   ],
   "source": [
    "scaled_image"
   ]
  },
  {
   "cell_type": "code",
   "execution_count": 37,
   "id": "5d73eeb9",
   "metadata": {},
   "outputs": [],
   "source": [
    "prediction=clf.predict([scaled_image])"
   ]
  },
  {
   "cell_type": "code",
   "execution_count": 38,
   "id": "f7e5521b",
   "metadata": {},
   "outputs": [
    {
     "data": {
      "text/plain": [
       "array([7])"
      ]
     },
     "execution_count": 38,
     "metadata": {},
     "output_type": "execute_result"
    }
   ],
   "source": [
    "prediction"
   ]
  },
  {
   "cell_type": "code",
   "execution_count": 39,
   "id": "0627af2b",
   "metadata": {},
   "outputs": [
    {
     "name": "stdout",
     "output_type": "stream",
     "text": [
      "(8, 8, 3)\n",
      "(8, 8)\n"
     ]
    }
   ],
   "source": [
    "realimg = cv2.imread('image0.jpg')\n",
    "print(realimg.shape)\n",
    "img_gray = cv2.cvtColor(realimg, cv2.COLOR_BGR2GRAY)\n",
    "#img_blur = cv2.GaussianBlur(img_gray, (5, 5), 0)\n",
    "resized_image = cv2.resize(img_gray, (8,8))\n",
    "print(resized_image.shape)"
   ]
  },
  {
   "cell_type": "code",
   "execution_count": 40,
   "id": "2a3a4064",
   "metadata": {},
   "outputs": [
    {
     "data": {
      "image/png": "[encoded data removed]",
      "text/plain": [
       "<Figure size 432x288 with 1 Axes>"
      ]
     },
     "metadata": {
      "needs_background": "light"
     },
     "output_type": "display_data"
    }
   ],
   "source": [
    "import matplotlib.pyplot as plt\n",
    "plt.imshow(resized_image,cmap='binary')\n",
    "plt.show()"
   ]
  },
  {
   "cell_type": "code",
   "execution_count": 41,
   "id": "0a8bc629",
   "metadata": {},
   "outputs": [
    {
     "data": {
      "text/plain": [
       "array([[ 1,  0,  3, 14,  9,  0,  2,  0],\n",
       "       [ 0,  1, 15, 15, 10, 13,  5,  0],\n",
       "       [ 0,  2, 15,  3,  0, 13,  7,  2],\n",
       "       [ 0,  5, 10,  1,  0,  9,  7,  0],\n",
       "       [ 0,  5,  9,  0,  0, 10,  7,  0],\n",
       "       [ 1,  3, 11,  0,  0, 13,  4,  2],\n",
       "       [ 0,  2, 13, 10, 10, 12,  1,  0],\n",
       "       [ 0,  2,  4, 12, 11,  0,  0,  1]], dtype=uint8)"
      ]
     },
     "execution_count": 41,
     "metadata": {},
     "output_type": "execute_result"
    }
   ],
   "source": [
    "resized_image"
   ]
  },
  {
   "cell_type": "code",
   "execution_count": 42,
   "id": "c64ddbaf",
   "metadata": {},
   "outputs": [],
   "source": [
    "scaled_image = resized_image.astype(digits.images.dtype)/16.0\n",
    "scaled_image=np.array(scaled_image)\n",
    "realimg=scaled_image.flatten()"
   ]
  },
  {
   "cell_type": "code",
   "execution_count": 44,
   "id": "74e71058",
   "metadata": {},
   "outputs": [
    {
     "data": {
      "text/plain": [
       "array([0.0625, 0.    , 0.1875, 0.875 , 0.5625, 0.    , 0.125 , 0.    ,\n",
       "       0.    , 0.0625, 0.9375, 0.9375, 0.625 , 0.8125, 0.3125, 0.    ,\n",
       "       0.    , 0.125 , 0.9375, 0.1875, 0.    , 0.8125, 0.4375, 0.125 ,\n",
       "       0.    , 0.3125, 0.625 , 0.0625, 0.    , 0.5625, 0.4375, 0.    ,\n",
       "       0.    , 0.3125, 0.5625, 0.    , 0.    , 0.625 , 0.4375, 0.    ,\n",
       "       0.0625, 0.1875, 0.6875, 0.    , 0.    , 0.8125, 0.25  , 0.125 ,\n",
       "       0.    , 0.125 , 0.8125, 0.625 , 0.625 , 0.75  , 0.0625, 0.    ,\n",
       "       0.    , 0.125 , 0.25  , 0.75  , 0.6875, 0.    , 0.    , 0.0625])"
      ]
     },
     "execution_count": 44,
     "metadata": {},
     "output_type": "execute_result"
    }
   ],
   "source": [
    "realimg"
   ]
  },
  {
   "cell_type": "code",
   "execution_count": 43,
   "id": "fd81a63e",
   "metadata": {},
   "outputs": [
    {
     "data": {
      "text/plain": [
       "array([0])"
      ]
     },
     "execution_count": 43,
     "metadata": {},
     "output_type": "execute_result"
    }
   ],
   "source": [
    "mlp.predict([realimg])"
   ]
  }
 ],
 "metadata": {
  "kernelspec": {
   "display_name": "Python 3 (ipykernel)",
   "language": "python",
   "name": "python3"
  },
  "language_info": {
   "codemirror_mode": {
    "name": "ipython",
    "version": 3
   },
   "file_extension": ".py",
   "mimetype": "text/x-python",
   "name": "python",
   "nbconvert_exporter": "python",
   "pygments_lexer": "ipython3",
   "version": "3.9.12"
  }
 },
 "nbformat": 4,
 "nbformat_minor": 5
}
