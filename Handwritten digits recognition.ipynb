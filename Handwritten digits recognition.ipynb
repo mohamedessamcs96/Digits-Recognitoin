{
 "cells": [
  {
   "cell_type": "markdown",
   "id": "7e2fe207",
   "metadata": {},
   "source": [
    "# Hand written digits recognition"
   ]
  },
  {
   "cell_type": "markdown",
   "id": "58466bf4",
   "metadata": {},
   "source": [
    "Link of dataset:https://archive.ics.uci.edu/ml/datasets/optical+recognition+of+handwritten+digits"
   ]
  },
  {
   "cell_type": "code",
   "execution_count": 130,
   "id": "64336fb8",
   "metadata": {},
   "outputs": [],
   "source": [
    "from sklearn import datasets"
   ]
  },
  {
   "cell_type": "markdown",
   "id": "f5241b0d",
   "metadata": {},
   "source": [
    "Scikit-learn (Sklearn) is the most useful and robust library for machine learning in Python. It provides a selection of efficient tools for machine learning and statistical modeling including classification, regression, clustering and dimensionality reduction via a consistence interface in Python."
   ]
  },
  {
   "cell_type": "code",
   "execution_count": 131,
   "id": "db5537e1",
   "metadata": {},
   "outputs": [],
   "source": [
    "digits=datasets.load_digits()"
   ]
  },
  {
   "cell_type": "code",
   "execution_count": 132,
   "id": "a0adb47f",
   "metadata": {},
   "outputs": [
    {
     "name": "stdout",
     "output_type": "stream",
     "text": [
      ".. _digits_dataset:\n",
      "\n",
      "Optical recognition of handwritten digits dataset\n",
      "--------------------------------------------------\n",
      "\n",
      "**Data Set Characteristics:**\n",
      "\n",
      "    :Number of Instances: 1797\n",
      "    :Number of Attributes: 64\n",
      "    :Attribute Information: 8x8 image of integer pixels in the range 0..16.\n",
      "    :Missing Attribute Values: None\n",
      "    :Creator: E. Alpaydin (alpaydin '@' boun.edu.tr)\n",
      "    :Date: July; 1998\n",
      "\n",
      "This is a copy of the test set of the UCI ML hand-written digits datasets\n",
      "https://archive.ics.uci.edu/ml/datasets/Optical+Recognition+of+Handwritten+Digits\n",
      "\n",
      "The data set contains images of hand-written digits: 10 classes where\n",
      "each class refers to a digit.\n",
      "\n",
      "Preprocessing programs made available by NIST were used to extract\n",
      "normalized bitmaps of handwritten digits from a preprinted form. From a\n",
      "total of 43 people, 30 contributed to the training set and different 13\n",
      "to the test set. 32x32 bitmaps are divided into nonoverlapping blocks of\n",
      "4x4 and the number of on pixels are counted in each block. This generates\n",
      "an input matrix of 8x8 where each element is an integer in the range\n",
      "0..16. This reduces dimensionality and gives invariance to small\n",
      "distortions.\n",
      "\n",
      "For info on NIST preprocessing routines, see M. D. Garris, J. L. Blue, G.\n",
      "T. Candela, D. L. Dimmick, J. Geist, P. J. Grother, S. A. Janet, and C.\n",
      "L. Wilson, NIST Form-Based Handprint Recognition System, NISTIR 5469,\n",
      "1994.\n",
      "\n",
      ".. topic:: References\n",
      "\n",
      "  - C. Kaynak (1995) Methods of Combining Multiple Classifiers and Their\n",
      "    Applications to Handwritten Digit Recognition, MSc Thesis, Institute of\n",
      "    Graduate Studies in Science and Engineering, Bogazici University.\n",
      "  - E. Alpaydin, C. Kaynak (1998) Cascading Classifiers, Kybernetika.\n",
      "  - Ken Tang and Ponnuthurai N. Suganthan and Xi Yao and A. Kai Qin.\n",
      "    Linear dimensionalityreduction using relevance weighted LDA. School of\n",
      "    Electrical and Electronic Engineering Nanyang Technological University.\n",
      "    2005.\n",
      "  - Claudio Gentile. A New Approximate Maximal Margin Classification\n",
      "    Algorithm. NIPS. 2000.\n",
      "\n"
     ]
    }
   ],
   "source": [
    "print(digits.DESCR)"
   ]
  },
  {
   "cell_type": "code",
   "execution_count": 133,
   "id": "cf6607e1",
   "metadata": {},
   "outputs": [],
   "source": [
    "from sklearn.model_selection import train_test_split"
   ]
  },
  {
   "cell_type": "code",
   "execution_count": 134,
   "id": "8d72b4fa",
   "metadata": {},
   "outputs": [],
   "source": [
    "X_train,X_test,y_train,y_test=train_test_split(digits.data,digits.target,test_size=0.3,random_state=0)"
   ]
  },
  {
   "cell_type": "code",
   "execution_count": 135,
   "id": "105a055b",
   "metadata": {},
   "outputs": [],
   "source": [
    "def sum(x,y):\n",
    "    summtion=x+y\n",
    "    return summition"
   ]
  },
  {
   "cell_type": "code",
   "execution_count": 136,
   "id": "a05f0e30",
   "metadata": {},
   "outputs": [
    {
     "data": {
      "text/plain": [
       "(1257, 64)"
      ]
     },
     "execution_count": 136,
     "metadata": {},
     "output_type": "execute_result"
    }
   ],
   "source": [
    "X_train.shape"
   ]
  },
  {
   "cell_type": "code",
   "execution_count": 137,
   "id": "af7ac118",
   "metadata": {},
   "outputs": [
    {
     "data": {
      "text/plain": [
       "(540, 64)"
      ]
     },
     "execution_count": 137,
     "metadata": {},
     "output_type": "execute_result"
    }
   ],
   "source": [
    "X_test.shape"
   ]
  },
  {
   "cell_type": "code",
   "execution_count": 138,
   "id": "867d5c5b",
   "metadata": {},
   "outputs": [
    {
     "data": {
      "text/plain": [
       "(1257,)"
      ]
     },
     "execution_count": 138,
     "metadata": {},
     "output_type": "execute_result"
    }
   ],
   "source": [
    "y_train.shape"
   ]
  },
  {
   "cell_type": "code",
   "execution_count": 139,
   "id": "103de0c3",
   "metadata": {},
   "outputs": [
    {
     "data": {
      "text/plain": [
       "(540,)"
      ]
     },
     "execution_count": 139,
     "metadata": {},
     "output_type": "execute_result"
    }
   ],
   "source": [
    "y_test.shape"
   ]
  },
  {
   "cell_type": "code",
   "execution_count": 140,
   "id": "2873e38d",
   "metadata": {},
   "outputs": [
    {
     "data": {
      "text/plain": [
       "array([[ 0.,  0.,  5., ...,  0.,  0.,  0.],\n",
       "       [ 0.,  0.,  0., ..., 10.,  0.,  0.],\n",
       "       [ 0.,  0.,  0., ..., 16.,  9.,  0.],\n",
       "       ...,\n",
       "       [ 0.,  0.,  1., ...,  6.,  0.,  0.],\n",
       "       [ 0.,  0.,  2., ..., 12.,  0.,  0.],\n",
       "       [ 0.,  0., 10., ..., 12.,  1.,  0.]])"
      ]
     },
     "execution_count": 140,
     "metadata": {},
     "output_type": "execute_result"
    }
   ],
   "source": [
    "digits.data"
   ]
  },
  {
   "cell_type": "code",
   "execution_count": 141,
   "id": "8f739002",
   "metadata": {},
   "outputs": [
    {
     "data": {
      "text/plain": [
       "array([0, 1, 2, ..., 8, 9, 8])"
      ]
     },
     "execution_count": 141,
     "metadata": {},
     "output_type": "execute_result"
    }
   ],
   "source": [
    "digits.target"
   ]
  },
  {
   "cell_type": "code",
   "execution_count": 142,
   "id": "7a085cea",
   "metadata": {},
   "outputs": [
    {
     "data": {
      "image/png": "[encoded data removed]",
      "text/plain": [
       "<Figure size 432x288 with 1 Axes>"
      ]
     },
     "metadata": {
      "needs_background": "light"
     },
     "output_type": "display_data"
    }
   ],
   "source": [
    "import matplotlib.pyplot as plt\n",
    "\n",
    "plt.imshow(digits.images[9],cmap='binary')\n",
    "plt.show()"
   ]
  },
  {
   "cell_type": "code",
   "execution_count": 143,
   "id": "18a75c8a",
   "metadata": {},
   "outputs": [],
   "source": [
    "def plot_multi(i):\n",
    "    '''plot 16 digits started with i=1'''\n",
    "    nplots=16\n",
    "    fig=plt.figure(figsize=(15,15))\n",
    "    for j in range(nplots):\n",
    "        #subplot nrows,ncols,index\n",
    "        plt.subplot(4,4,j+1)\n",
    "        plt.imshow(digits.images[i+j],cmap='binary')\n",
    "        plt.title(digits.target[i+j])\n",
    "        plt.axis('off')\n",
    "    plt.show()"
   ]
  },
  {
   "cell_type": "code",
   "execution_count": 144,
   "id": "4dbadb6a",
   "metadata": {},
   "outputs": [
    {
     "data": {
      "image/png": "[encoded data removed]",
      "text/plain": [
       "<Figure size 1080x1080 with 16 Axes>"
      ]
     },
     "metadata": {
      "needs_background": "light"
     },
     "output_type": "display_data"
    }
   ],
   "source": [
    "plot_multi(0)"
   ]
  },
  {
   "cell_type": "code",
   "execution_count": 145,
   "id": "8970d9cf",
   "metadata": {},
   "outputs": [],
   "source": [
    "from sklearn import svm"
   ]
  },
  {
   "cell_type": "code",
   "execution_count": 146,
   "id": "6246c3bf",
   "metadata": {},
   "outputs": [],
   "source": [
    "svmClf=svm.SVC()"
   ]
  },
  {
   "cell_type": "code",
   "execution_count": 147,
   "id": "78afa63c",
   "metadata": {},
   "outputs": [
    {
     "data": {
      "text/plain": [
       "SVC()"
      ]
     },
     "execution_count": 147,
     "metadata": {},
     "output_type": "execute_result"
    }
   ],
   "source": [
    "svmClf.fit(X_train,y_train)"
   ]
  },
  {
   "cell_type": "code",
   "execution_count": 148,
   "id": "0d9669a3",
   "metadata": {},
   "outputs": [
    {
     "name": "stdout",
     "output_type": "stream",
     "text": [
      "The accuracy on the trainning subset: 0.994431185361973\n"
     ]
    }
   ],
   "source": [
    "print(\"The accuracy on the trainning subset: {}\".format(svmClf.score(X_train,y_train)))"
   ]
  },
  {
   "cell_type": "code",
   "execution_count": 149,
   "id": "560e2121",
   "metadata": {},
   "outputs": [
    {
     "name": "stdout",
     "output_type": "stream",
     "text": [
      "The accuracy on the test subset: 0.9907407407407407\n"
     ]
    }
   ],
   "source": [
    "print(\"The accuracy on the test subset: {}\".format(svmClf.score(X_test,y_test)))"
   ]
  },
  {
   "cell_type": "code",
   "execution_count": 150,
   "id": "2d12dcf4",
   "metadata": {},
   "outputs": [],
   "source": [
    "from sklearn.neural_network import MLPClassifier"
   ]
  },
  {
   "cell_type": "code",
   "execution_count": 158,
   "id": "7696c97f",
   "metadata": {},
   "outputs": [],
   "source": [
    "neuralnetworkmodel=MLPClassifier(hidden_layer_sizes=(15,),activation='relu',learning_rate_init=0.1,solver='adam',max_iter=200,verbose=True)"
   ]
  },
  {
   "cell_type": "code",
   "execution_count": 159,
   "id": "10543aaf",
   "metadata": {},
   "outputs": [
    {
     "name": "stdout",
     "output_type": "stream",
     "text": [
      "Iteration 1, loss = 9.12549786\n",
      "Iteration 2, loss = 2.22164454\n",
      "Iteration 3, loss = 2.06443533\n",
      "Iteration 4, loss = 1.92782214\n",
      "Iteration 5, loss = 1.84936860\n",
      "Iteration 6, loss = 1.79119686\n",
      "Iteration 7, loss = 1.76261989\n",
      "Iteration 8, loss = 1.74541866\n",
      "Iteration 9, loss = 1.75203083\n",
      "Iteration 10, loss = 1.73377710\n",
      "Iteration 11, loss = 1.72938624\n",
      "Iteration 12, loss = 1.74079163\n",
      "Iteration 13, loss = 1.72088655\n",
      "Iteration 14, loss = 1.71001677\n",
      "Iteration 15, loss = 1.71354194\n",
      "Iteration 16, loss = 1.71269030\n",
      "Iteration 17, loss = 1.70924609\n",
      "Iteration 18, loss = 1.70654786\n",
      "Iteration 19, loss = 1.70213624\n",
      "Iteration 20, loss = 1.69836620\n",
      "Iteration 21, loss = 1.69618277\n",
      "Iteration 22, loss = 1.69459360\n",
      "Iteration 23, loss = 1.69245435\n",
      "Iteration 24, loss = 1.69888364\n",
      "Iteration 25, loss = 1.69004340\n",
      "Iteration 26, loss = 1.67770342\n",
      "Iteration 27, loss = 1.65264566\n",
      "Iteration 28, loss = 1.60540622\n",
      "Iteration 29, loss = 1.57860193\n",
      "Iteration 30, loss = 1.58230675\n",
      "Iteration 31, loss = 1.55378457\n",
      "Iteration 32, loss = 1.54642900\n",
      "Iteration 33, loss = 1.54834555\n",
      "Iteration 34, loss = 1.56135770\n",
      "Iteration 35, loss = 1.59423492\n",
      "Iteration 36, loss = 1.65411914\n",
      "Iteration 37, loss = 1.59400342\n",
      "Iteration 38, loss = 1.65401472\n",
      "Iteration 39, loss = 1.63372178\n",
      "Iteration 40, loss = 1.57219337\n",
      "Iteration 41, loss = 1.55494606\n",
      "Iteration 42, loss = 1.55612560\n",
      "Iteration 43, loss = 1.55683400\n",
      "Training loss did not improve more than tol=0.000100 for 10 consecutive epochs. Stopping.\n"
     ]
    },
    {
     "data": {
      "text/plain": [
       "MLPClassifier(hidden_layer_sizes=(15,), learning_rate_init=0.1, verbose=True)"
      ]
     },
     "execution_count": 159,
     "metadata": {},
     "output_type": "execute_result"
    }
   ],
   "source": [
    "neuralnetworkmodel.fit(X_train,y_train)"
   ]
  },
  {
   "cell_type": "code",
   "execution_count": 153,
   "id": "7bddb04f",
   "metadata": {},
   "outputs": [
    {
     "name": "stdout",
     "output_type": "stream",
     "text": [
      "The accuracy on the trainning subset: 0.10580747812251393\n"
     ]
    }
   ],
   "source": [
    "print(\"The accuracy on the trainning subset: {}\".format(neuralnetworkmodel.score(X_train,y_train)))"
   ]
  },
  {
   "cell_type": "code",
   "execution_count": 154,
   "id": "3b1f89c4",
   "metadata": {},
   "outputs": [
    {
     "name": "stdout",
     "output_type": "stream",
     "text": [
      "The accuracy on the test subset: 0.08888888888888889\n"
     ]
    }
   ],
   "source": [
    "print(\"The accuracy on the test subset: {}\".format(neuralnetworkmodel.score(X_test,y_test)))"
   ]
  },
  {
   "cell_type": "code",
   "execution_count": 160,
   "id": "059618cf",
   "metadata": {},
   "outputs": [],
   "source": [
    "pred=neuralnetworkmodel.predict([digits.data[10]])"
   ]
  },
  {
   "cell_type": "code",
   "execution_count": 161,
   "id": "245ec943",
   "metadata": {},
   "outputs": [
    {
     "name": "stdout",
     "output_type": "stream",
     "text": [
      "[0]\n"
     ]
    }
   ],
   "source": [
    "print(pred)"
   ]
  },
  {
   "cell_type": "code",
   "execution_count": 103,
   "id": "23a7280d",
   "metadata": {},
   "outputs": [
    {
     "name": "stdout",
     "output_type": "stream",
     "text": [
      "[[ 0.  0.  0. 12. 13.  0.  0.  0.]\n",
      " [ 0.  0.  5. 16.  8.  0.  0.  0.]\n",
      " [ 0.  0. 13. 16.  3.  0.  0.  0.]\n",
      " [ 0.  0. 14. 13.  0.  0.  0.  0.]\n",
      " [ 0.  0. 15. 12.  7.  2.  0.  0.]\n",
      " [ 0.  0. 13. 16. 13. 16.  3.  0.]\n",
      " [ 0.  0.  7. 16. 11. 15.  8.  0.]\n",
      " [ 0.  0.  1.  9. 15. 11.  3.  0.]]\n"
     ]
    }
   ],
   "source": [
    "print(digits.images[6])"
   ]
  },
  {
   "cell_type": "code",
   "execution_count": 104,
   "id": "290a12a0",
   "metadata": {},
   "outputs": [],
   "source": [
    "pred=svmClf.predict([digits.data[10]])"
   ]
  },
  {
   "cell_type": "code",
   "execution_count": 60,
   "id": "b0522da7",
   "metadata": {},
   "outputs": [
    {
     "name": "stdout",
     "output_type": "stream",
     "text": [
      "[0]\n"
     ]
    }
   ],
   "source": [
    "print(pred)"
   ]
  },
  {
   "cell_type": "code",
   "execution_count": 162,
   "id": "2cdfd44e",
   "metadata": {},
   "outputs": [],
   "source": [
    "import cv2\n",
    "import numpy as np\n",
    "\n",
    "img=cv2.imread('numbersix.png')"
   ]
  },
  {
   "cell_type": "code",
   "execution_count": 164,
   "id": "ecf83aa6",
   "metadata": {},
   "outputs": [
    {
     "data": {
      "text/plain": [
       "(300, 300, 3)"
      ]
     },
     "execution_count": 164,
     "metadata": {},
     "output_type": "execute_result"
    }
   ],
   "source": [
    "img.shape"
   ]
  },
  {
   "cell_type": "code",
   "execution_count": 165,
   "id": "99f40439",
   "metadata": {},
   "outputs": [],
   "source": [
    "gray_img=cv2.cvtColor(img,cv2.COLOR_BGR2GRAY)"
   ]
  },
  {
   "cell_type": "code",
   "execution_count": 167,
   "id": "0a82c87a",
   "metadata": {},
   "outputs": [
    {
     "data": {
      "text/plain": [
       "(300, 300)"
      ]
     },
     "execution_count": 167,
     "metadata": {},
     "output_type": "execute_result"
    }
   ],
   "source": [
    "gray_img.shape"
   ]
  },
  {
   "cell_type": "code",
   "execution_count": 168,
   "id": "fc071c99",
   "metadata": {},
   "outputs": [],
   "source": [
    "resize_image=cv2.resize(gray_img,(8,8))"
   ]
  },
  {
   "cell_type": "code",
   "execution_count": 169,
   "id": "273acc00",
   "metadata": {},
   "outputs": [
    {
     "data": {
      "text/plain": [
       "(8, 8)"
      ]
     },
     "execution_count": 169,
     "metadata": {},
     "output_type": "execute_result"
    }
   ],
   "source": [
    "resize_image.shape"
   ]
  },
  {
   "cell_type": "code",
   "execution_count": 170,
   "id": "9179af0e",
   "metadata": {},
   "outputs": [
    {
     "data": {
      "text/plain": [
       "array([[255, 255, 255, 255, 255, 255, 255, 255],\n",
       "       [255, 255, 255, 255, 255, 255, 255, 255],\n",
       "       [255, 255, 255,  38, 255, 255, 255, 255],\n",
       "       [255, 255,   0, 255, 255, 255, 255, 255],\n",
       "       [255, 255, 255, 255, 255, 255, 255, 255],\n",
       "       [255, 242, 255, 255, 255, 255, 255, 255],\n",
       "       [255, 255,   0, 255, 255,   0, 255, 255],\n",
       "       [255, 255, 255,   0,   0, 255, 255, 255]], dtype=uint8)"
      ]
     },
     "execution_count": 170,
     "metadata": {},
     "output_type": "execute_result"
    }
   ],
   "source": [
    "resize_image"
   ]
  },
  {
   "cell_type": "code",
   "execution_count": 173,
   "id": "7c3d3c6e",
   "metadata": {},
   "outputs": [],
   "source": [
    "flattenfeatures=resize_image.flatten()"
   ]
  },
  {
   "cell_type": "code",
   "execution_count": 174,
   "id": "c77a386a",
   "metadata": {},
   "outputs": [
    {
     "data": {
      "text/plain": [
       "(64,)"
      ]
     },
     "execution_count": 174,
     "metadata": {},
     "output_type": "execute_result"
    }
   ],
   "source": [
    "flattenfeatures.shape"
   ]
  },
  {
   "cell_type": "code",
   "execution_count": 175,
   "id": "2167c553",
   "metadata": {},
   "outputs": [],
   "source": [
    "pred=svmClf.predict([flattenfeatures])"
   ]
  },
  {
   "cell_type": "code",
   "execution_count": 176,
   "id": "e68e75ca",
   "metadata": {},
   "outputs": [
    {
     "data": {
      "text/plain": [
       "array([1])"
      ]
     },
     "execution_count": 176,
     "metadata": {},
     "output_type": "execute_result"
    }
   ],
   "source": [
    "pred"
   ]
  }
 ],
 "metadata": {
  "kernelspec": {
   "display_name": "Python 3 (ipykernel)",
   "language": "python",
   "name": "python3"
  },
  "language_info": {
   "codemirror_mode": {
    "name": "ipython",
    "version": 3
   },
   "file_extension": ".py",
   "mimetype": "text/x-python",
   "name": "python",
   "nbconvert_exporter": "python",
   "pygments_lexer": "ipython3",
   "version": "3.9.12"
  }
 },
 "nbformat": 4,
 "nbformat_minor": 5
}
